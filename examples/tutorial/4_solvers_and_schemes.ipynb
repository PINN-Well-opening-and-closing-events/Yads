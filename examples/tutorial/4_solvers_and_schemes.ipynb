{
 "cells": [
  {
   "cell_type": "code",
   "execution_count": 1,
   "metadata": {},
   "outputs": [
    {
     "name": "stdout",
     "output_type": "stream",
     "text": [
      "Path setup complete.\n"
     ]
    }
   ],
   "source": [
    "%run setup.ipynb"
   ]
  },
  {
   "cell_type": "markdown",
   "metadata": {},
   "source": [
    "# Solvers and Schemes\n",
    "\n",
    "There are multiple solvers which solve a problem with respect to at least one variable between saturation and pressure and numerical schemes which solve the whole pressure plus saturation problem. \n",
    "\n",
    "Solvers: \n",
    "- Implicit Pressure solver (IMP), \n",
    "- Implicit Saturation Solver (IMS)  \n",
    "- Explicit Saturation Solver (ES)\n",
    "- Fully Implicit: Solve pressure and saturation simultaeneously\n",
    "\n",
    "Schemes: \n",
    "- IMPES: Implicit pressure solver + Explicit Saturation solver \n",
    "- IMPIMS: Implicit Pressure solver + Implicit Saturation solver \n",
    "- SOLSS: Based on Fully Implicit solver "
   ]
  },
  {
   "cell_type": "markdown",
   "metadata": {},
   "source": [
    "## Set up initial problem"
   ]
  },
  {
   "cell_type": "code",
   "execution_count": 7,
   "metadata": {},
   "outputs": [],
   "source": [
    "import numpy as np\n",
    "import yads.mesh as ym\n",
    "from yads.wells import Well\n"
   ]
  },
  {
   "cell_type": "code",
   "execution_count": 13,
   "metadata": {},
   "outputs": [],
   "source": [
    "# Define grid\n",
    "grid = ym.two_D.create_2d_cartesian(Lx=21, Ly=5, Nx=21, Ny=5)"
   ]
  },
  {
   "cell_type": "code",
   "execution_count": 34,
   "metadata": {},
   "outputs": [],
   "source": [
    "# Properties \n",
    "# Porosity\n",
    "phi = np.full(grid.nb_cells, 0.2)\n",
    "# Diffusion coefficient (i.e Permeability)\n",
    "K = np.full(grid.nb_cells, 100.0e-15)\n",
    "# viscosity\n",
    "mu_w = 0.571e-3\n",
    "mu_g = 0.0285e-3\n",
    "# Relative permeability model: only 'cross' (kr(s) = s) and 'quadratic' (kr(s) = s**2) are supported \n",
    "kr_model = \"quadratic\""
   ]
  },
  {
   "cell_type": "code",
   "execution_count": 35,
   "metadata": {},
   "outputs": [],
   "source": [
    "# BOUNDARY CONDITIONS #\n",
    "# Pressure\n",
    "# Small pressure gradient from left to right\n",
    "Pb = {\"left\": 110.0e5,  \"right\": 100.0e5}\n",
    "# Saturation\n",
    "# Inject gaz from left to right through Dirichlet boundary conditions\n",
    "Sb_d = {\"left\": 1.0, \"right\": 0.0}\n",
    "# No Neumann so we create a dict of None\n",
    "Sb_n = {\"left\": None, \"right\": None}\n",
    "Sb_dict = {\"Dirichlet\": Sb_d, \"Neumann\": Sb_n}"
   ]
  },
  {
   "cell_type": "code",
   "execution_count": 36,
   "metadata": {},
   "outputs": [],
   "source": [
    "from yads.numerics.physics import calculate_transmissivity\n",
    "# Compute face transmitivity based on mesh geometry and permeability\n",
    "T = calculate_transmissivity(grid=grid, K=K)"
   ]
  },
  {
   "cell_type": "markdown",
   "metadata": {},
   "source": [
    "## Solvers "
   ]
  },
  {
   "cell_type": "code",
   "execution_count": 81,
   "metadata": {},
   "outputs": [],
   "source": [
    "from yads.numerics.solvers import solss_solver, explicit_saturation_solver, implicit_pressure_solver, implicit_saturation_solver"
   ]
  },
  {
   "cell_type": "code",
   "execution_count": 82,
   "metadata": {},
   "outputs": [],
   "source": [
    "import matplotlib.pyplot as plt"
   ]
  },
  {
   "cell_type": "markdown",
   "metadata": {},
   "source": [
    "### IMP: Implicit pressure solver \n",
    "Solve the pressure problem. In the context of incompressible two-phase flow in porous medium model, pressure behaves in an elliptic linear fashion way. Therefore, solving the pressure problem requires to solve a linear system of equation and the resulting implicit pressure is just a linear approximation between boundary conditions (well can be seen as an inside domain boundary condition, inner condition? )"
   ]
  },
  {
   "cell_type": "code",
   "execution_count": 83,
   "metadata": {},
   "outputs": [],
   "source": [
    "# gaz saturation initialization: Only water at first \n",
    "S = np.full(grid.nb_cells, 0.0)\n",
    "# Pressure initialization: Initial pressure guess, does not matter too much \n",
    "P = np.full(grid.nb_cells, 100.0e5)\n",
    "\n",
    "Pimp = implicit_pressure_solver(\n",
    "                        grid=grid, \n",
    "                        K=K,\n",
    "                        T=T, \n",
    "                        P=P,\n",
    "                        S=S,\n",
    "                        Pb=Pb,\n",
    "                        Sb_dict=Sb_dict, \n",
    "                        mu_g=mu_g,\n",
    "                        mu_w=mu_w,\n",
    "                        wells=[],\n",
    "                        kr_model=kr_model\n",
    "                    )"
   ]
  },
  {
   "cell_type": "code",
   "execution_count": 84,
   "metadata": {},
   "outputs": [
    {
     "data": {
      "image/png": "[encoded data removed]",
      "text/plain": [
       "<Figure size 1200x800 with 2 Axes>"
      ]
     },
     "metadata": {},
     "output_type": "display_data"
    }
   ],
   "source": [
    "fig, (ax1) = plt.subplots(1, 1, figsize=(12, 8))\n",
    "im = ax1.imshow(Pimp.reshape(21, 5).T)\n",
    "ax1.invert_yaxis()\n",
    "ax1.set_title(\"Implicit pressure\")\n",
    "plt.colorbar(im)\n",
    "plt.show()"
   ]
  },
  {
   "cell_type": "markdown",
   "metadata": {},
   "source": [
    "### ES: Explicit Saturation solver (Not up to date need good refactoring)\n",
    "\n",
    "The main non-linearities arise through the saturation as it behave in a non-linear hyperbolic fashion."
   ]
  },
  {
   "cell_type": "code",
   "execution_count": 104,
   "metadata": {},
   "outputs": [],
   "source": [
    "# gaz saturation initialization: Only water at first \n",
    "S = np.full(grid.nb_cells, 0.0)\n",
    "# Pressure initialization: Initial pressure guess, does matter a lot ! \n",
    "P = np.full(grid.nb_cells, 100.0e5)\n",
    "# timestep in seconds \n",
    "dt = 1.\n",
    "S_exp, F, F_well = explicit_saturation_solver(\n",
    "                        grid=grid, \n",
    "                        K=K,\n",
    "                        phi=phi, \n",
    "                        T=T, \n",
    "                        P=Pimp,\n",
    "                        S=S,\n",
    "                        Pb=Pb,\n",
    "                        Sb_dict=Sb_dict,\n",
    "                        dt=dt,\n",
    "                        mu_o=mu_g,\n",
    "                        mu_w=mu_w,\n",
    "                        wells=[],\n",
    "                    )"
   ]
  },
  {
   "cell_type": "code",
   "execution_count": 105,
   "metadata": {},
   "outputs": [],
   "source": [
    "from yads.numerics.numerical_tests import cfl_condition\n",
    "from yads.physics.fractional_flow import dfw_dsw\n",
    "cfl, _ = cfl_condition(grid=grid, \n",
    "              phi=phi, \n",
    "              Pb=Pb,\n",
    "              F=F, \n",
    "              F_well=F_well, \n",
    "              dfw=dfw_dsw, \n",
    "              mu_o=mu_g, \n",
    "              mu_w=mu_w, \n",
    "              wells=[])\n"
   ]
  },
  {
   "cell_type": "code",
   "execution_count": 106,
   "metadata": {},
   "outputs": [
    {
     "name": "stdout",
     "output_type": "stream",
     "text": [
      "23438.500042634398\n"
     ]
    }
   ],
   "source": [
    "print(cfl)"
   ]
  },
  {
   "cell_type": "code",
   "execution_count": 111,
   "metadata": {},
   "outputs": [],
   "source": [
    "# gaz saturation initialization: Only water at first \n",
    "S = np.full(grid.nb_cells, 0.0)\n",
    "# Pressure initialization: Initial pressure guess, does matter a lot ! \n",
    "P = np.full(grid.nb_cells, 100.0e5)\n",
    "# timestep in seconds \n",
    "dt = 0.9 * cfl\n",
    "S_exp, F, F_well = explicit_saturation_solver(\n",
    "                        grid=grid, \n",
    "                        K=K,\n",
    "                        phi=phi, \n",
    "                        T=T, \n",
    "                        P=Pimp,\n",
    "                        S=S,\n",
    "                        Pb=Pb,\n",
    "                        Sb_dict=Sb_dict,\n",
    "                        dt=dt,\n",
    "                        mu_o=mu_g,\n",
    "                        mu_w=mu_w,\n",
    "                        wells=[],\n",
    "                    )"
   ]
  },
  {
   "cell_type": "code",
   "execution_count": 112,
   "metadata": {},
   "outputs": [
    {
     "data": {
      "text/plain": [
       "array([0.00449365, 0.00449365, 0.00449365, 0.00449365, 0.00449365,\n",
       "       0.00404411, 0.00404411, 0.00404411, 0.00404411, 0.00404411,\n",
       "       0.00363955, 0.00363955, 0.00363955, 0.00363955, 0.00363955,\n",
       "       0.00327545, 0.00327545, 0.00327545, 0.00327545, 0.00327545,\n",
       "       0.00294778, 0.00294778, 0.00294778, 0.00294778, 0.00294778,\n",
       "       0.00265289, 0.00265289, 0.00265289, 0.00265289, 0.00265289,\n",
       "       0.0023875 , 0.0023875 , 0.0023875 , 0.0023875 , 0.0023875 ,\n",
       "       0.00214866, 0.00214866, 0.00214866, 0.00214866, 0.00214866,\n",
       "       0.00193371, 0.00193371, 0.00193371, 0.00193371, 0.00193371,\n",
       "       0.00174026, 0.00174026, 0.00174026, 0.00174026, 0.00174026,\n",
       "       0.00156617, 0.00156617, 0.00156617, 0.00156617, 0.00156617,\n",
       "       0.00140949, 0.00140949, 0.00140949, 0.00140949, 0.00140949,\n",
       "       0.00126849, 0.00126849, 0.00126849, 0.00126849, 0.00126849,\n",
       "       0.00114159, 0.00114159, 0.00114159, 0.00114159, 0.00114159,\n",
       "       0.00102739, 0.00102739, 0.00102739, 0.00102739, 0.00102739,\n",
       "       0.00092461, 0.00092461, 0.00092461, 0.00092461, 0.00092461,\n",
       "       0.00083211, 0.00083211, 0.00083211, 0.00083211, 0.00083211,\n",
       "       0.00074887, 0.00074887, 0.00074887, 0.00074887, 0.00074887,\n",
       "       0.00067396, 0.00067396, 0.00067396, 0.00067396, 0.00067396,\n",
       "       0.00060653, 0.00060653, 0.00060653, 0.00060653, 0.00060653,\n",
       "       0.00545648, 0.00545648, 0.00545648, 0.00545648, 0.00545648])"
      ]
     },
     "execution_count": 112,
     "metadata": {},
     "output_type": "execute_result"
    }
   ],
   "source": [
    "S_exp"
   ]
  },
  {
   "cell_type": "markdown",
   "metadata": {},
   "source": [
    "### IMS: Implicit Saturation solver"
   ]
  },
  {
   "cell_type": "code",
   "execution_count": 87,
   "metadata": {},
   "outputs": [
    {
     "name": "stdout",
     "output_type": "stream",
     "text": [
      "norm: 7.85E-02\n",
      "norm: 0.00E+00\n"
     ]
    }
   ],
   "source": [
    "# gaz saturation initialization: Only water at first \n",
    "S = np.full(grid.nb_cells, 0.0)\n",
    "# Pressure initialization: Initial pressure guess, does matter a lot ! \n",
    "P = np.full(grid.nb_cells, 100.0e5)\n",
    "dt = 1.\n",
    "S_imp, dt, step = implicit_saturation_solver(\n",
    "                        grid=grid,\n",
    "                        phi=phi,\n",
    "                        T=T, \n",
    "                        P=P,\n",
    "                        S=S,\n",
    "                        Pb=Pb,\n",
    "                        Sb_dict=Sb_dict,\n",
    "                        dt=dt,\n",
    "                        mu_g=mu_g,\n",
    "                        wells=[],\n",
    "                    )"
   ]
  },
  {
   "cell_type": "code",
   "execution_count": 88,
   "metadata": {},
   "outputs": [
    {
     "data": {
      "text/plain": [
       "array([0.03508772, 0.03508772, 0.03508772, 0.03508772, 0.03508772,\n",
       "       0.        , 0.        , 0.        , 0.        , 0.        ,\n",
       "       0.        , 0.        , 0.        , 0.        , 0.        ,\n",
       "       0.        , 0.        , 0.        , 0.        , 0.        ,\n",
       "       0.        , 0.        , 0.        , 0.        , 0.        ,\n",
       "       0.        , 0.        , 0.        , 0.        , 0.        ,\n",
       "       0.        , 0.        , 0.        , 0.        , 0.        ,\n",
       "       0.        , 0.        , 0.        , 0.        , 0.        ,\n",
       "       0.        , 0.        , 0.        , 0.        , 0.        ,\n",
       "       0.        , 0.        , 0.        , 0.        , 0.        ,\n",
       "       0.        , 0.        , 0.        , 0.        , 0.        ,\n",
       "       0.        , 0.        , 0.        , 0.        , 0.        ,\n",
       "       0.        , 0.        , 0.        , 0.        , 0.        ,\n",
       "       0.        , 0.        , 0.        , 0.        , 0.        ,\n",
       "       0.        , 0.        , 0.        , 0.        , 0.        ,\n",
       "       0.        , 0.        , 0.        , 0.        , 0.        ,\n",
       "       0.        , 0.        , 0.        , 0.        , 0.        ,\n",
       "       0.        , 0.        , 0.        , 0.        , 0.        ,\n",
       "       0.        , 0.        , 0.        , 0.        , 0.        ,\n",
       "       0.        , 0.        , 0.        , 0.        , 0.        ,\n",
       "       0.        , 0.        , 0.        , 0.        , 0.        ])"
      ]
     },
     "execution_count": 88,
     "metadata": {},
     "output_type": "execute_result"
    }
   ],
   "source": [
    "S_imp"
   ]
  },
  {
   "cell_type": "code",
   "execution_count": null,
   "metadata": {},
   "outputs": [],
   "source": []
  },
  {
   "cell_type": "markdown",
   "metadata": {},
   "source": [
    "## Schemes "
   ]
  },
  {
   "cell_type": "markdown",
   "metadata": {},
   "source": [
    "### IMPES"
   ]
  },
  {
   "cell_type": "markdown",
   "metadata": {},
   "source": [
    "### IMPIMS"
   ]
  },
  {
   "cell_type": "markdown",
   "metadata": {},
   "source": [
    "### SOLLS (Fully Implicit)"
   ]
  },
  {
   "cell_type": "markdown",
   "metadata": {},
   "source": []
  }
 ],
 "metadata": {
  "kernelspec": {
   "display_name": "Yads",
   "language": "python",
   "name": "python3"
  },
  "language_info": {
   "codemirror_mode": {
    "name": "ipython",
    "version": 3
   },
   "file_extension": ".py",
   "mimetype": "text/x-python",
   "name": "python",
   "nbconvert_exporter": "python",
   "pygments_lexer": "ipython3",
   "version": "3.12.2"
  }
 },
 "nbformat": 4,
 "nbformat_minor": 2
}
