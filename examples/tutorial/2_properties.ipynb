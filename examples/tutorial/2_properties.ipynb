{
 "cells": [
  {
   "cell_type": "markdown",
   "metadata": {},
   "source": [
    "# Grid property management"
   ]
  },
  {
   "cell_type": "code",
   "execution_count": 1,
   "metadata": {},
   "outputs": [
    {
     "name": "stdout",
     "output_type": "stream",
     "text": [
      "Path setup complete.\n"
     ]
    }
   ],
   "source": [
    "%run setup.ipynb"
   ]
  },
  {
   "cell_type": "markdown",
   "metadata": {},
   "source": [
    "Considering that we have created a grid, we wish to define properties for each cell of the grid for future simulations"
   ]
  },
  {
   "cell_type": "code",
   "execution_count": 2,
   "metadata": {},
   "outputs": [],
   "source": [
    "import yads.mesh as ym"
   ]
  },
  {
   "cell_type": "code",
   "execution_count": 13,
   "metadata": {},
   "outputs": [],
   "source": [
    "# First let us create a grid\n",
    "grid = ym.two_D.create_2d_cartesian(Lx=5, Ly=5, Nx=5, Ny=5)"
   ]
  },
  {
   "cell_type": "code",
   "execution_count": 15,
   "metadata": {},
   "outputs": [
    {
     "data": {
      "text/plain": [
       "array([[0.5, 0.5],\n",
       "       [0.5, 1.5],\n",
       "       [0.5, 2.5],\n",
       "       [0.5, 3.5],\n",
       "       [0.5, 4.5],\n",
       "       [1.5, 0.5],\n",
       "       [1.5, 1.5],\n",
       "       [1.5, 2.5],\n",
       "       [1.5, 3.5],\n",
       "       [1.5, 4.5],\n",
       "       [2.5, 0.5],\n",
       "       [2.5, 1.5],\n",
       "       [2.5, 2.5],\n",
       "       [2.5, 3.5],\n",
       "       [2.5, 4.5],\n",
       "       [3.5, 0.5],\n",
       "       [3.5, 1.5],\n",
       "       [3.5, 2.5],\n",
       "       [3.5, 3.5],\n",
       "       [3.5, 4.5],\n",
       "       [4.5, 0.5],\n",
       "       [4.5, 1.5],\n",
       "       [4.5, 2.5],\n",
       "       [4.5, 3.5],\n",
       "       [4.5, 4.5]])"
      ]
     },
     "execution_count": 15,
     "metadata": {},
     "output_type": "execute_result"
    }
   ],
   "source": [
    "# Check cell center coordinates\n",
    "grid.centers(item='cell')"
   ]
  },
  {
   "cell_type": "markdown",
   "metadata": {},
   "source": [
    "Now we define cell properties as numpy array, for example permeability K:"
   ]
  },
  {
   "cell_type": "code",
   "execution_count": 4,
   "metadata": {},
   "outputs": [],
   "source": [
    "import numpy as np"
   ]
  },
  {
   "cell_type": "code",
   "execution_count": 20,
   "metadata": {},
   "outputs": [],
   "source": [
    "high_K = 10.\n",
    "low_K = 1."
   ]
  },
  {
   "cell_type": "code",
   "execution_count": 21,
   "metadata": {},
   "outputs": [],
   "source": [
    "# Homegeneous case: all cells have the same property value\n",
    "K_homogeneous = np.full(grid.nb_cells, high_K)"
   ]
  },
  {
   "cell_type": "markdown",
   "metadata": {},
   "source": [
    "Heterogeneous case require to select specific cells and apply a different property value on them.\n",
    "\n",
    "As an example we create a permeability zone in the lower right corner where the value is much lower "
   ]
  },
  {
   "cell_type": "code",
   "execution_count": 32,
   "metadata": {},
   "outputs": [],
   "source": [
    "# Permeability barrier zone creation\n",
    "# First find the cell indexes where we want a different property. We define a rectangle and the methods finds the cells with a cell center inside the rectangle. \n",
    "barrier_cell_indexes = grid.find_cells_inside_square(up_left=(0., 2.), down_right=(2., 0.))\n",
    "# Create basic value\n",
    "K_heterogeneous = np.full(grid.nb_cells, high_K)\n",
    "# Update with new values in the zone of interest\n",
    "K_heterogeneous[barrier_cell_indexes] =  low_K"
   ]
  },
  {
   "cell_type": "code",
   "execution_count": 33,
   "metadata": {},
   "outputs": [
    {
     "data": {
      "image/png": "[encoded data removed]",
      "text/plain": [
       "<Figure size 800x800 with 2 Axes>"
      ]
     },
     "metadata": {},
     "output_type": "display_data"
    }
   ],
   "source": [
    "import matplotlib.pyplot as plt\n",
    "fig, (ax1, ax2) = plt.subplots(1, 2, figsize=(8, 8))\n",
    "ax1.imshow(K_homogeneous.reshape(5, 5).T)\n",
    "ax2.imshow(K_heterogeneous.reshape(5, 5).T)\n",
    "ax1.invert_yaxis()\n",
    "ax2.invert_yaxis()\n",
    "ax1.set_title(\"Homegenous K map\")\n",
    "ax2.set_title(\"Heterogeneous K map\")\n",
    "plt.show()"
   ]
  },
  {
   "cell_type": "code",
   "execution_count": 40,
   "metadata": {},
   "outputs": [],
   "source": [
    "# One can also use numpy to define more advanced criterions\n",
    "center_x, center_y = 2.5, 2.5 \n",
    "distance = np.abs(grid.centers(item='cell')[:, 0] - center_x) + np.abs(grid.centers(item='cell')[:, 1] - center_y)\n",
    "radius = 2. \n",
    "cirlce_indexes = np.where(distance <= radius)"
   ]
  },
  {
   "cell_type": "code",
   "execution_count": 43,
   "metadata": {},
   "outputs": [],
   "source": [
    "# Circle permeability barrier zone creation\n",
    "# Create basic value\n",
    "K_heterogeneous = np.full(grid.nb_cells, high_K)\n",
    "# Update with new values in the zone of interest\n",
    "K_heterogeneous[cirlce_indexes] =  low_K"
   ]
  },
  {
   "cell_type": "code",
   "execution_count": 44,
   "metadata": {},
   "outputs": [
    {
     "data": {
      "image/png": "[encoded data removed]",
      "text/plain": [
       "<Figure size 800x800 with 2 Axes>"
      ]
     },
     "metadata": {},
     "output_type": "display_data"
    }
   ],
   "source": [
    "fig, (ax1, ax2) = plt.subplots(1, 2, figsize=(8, 8))\n",
    "ax1.imshow(K_homogeneous.reshape(5, 5).T)\n",
    "ax2.imshow(K_heterogeneous.reshape(5, 5).T)\n",
    "ax1.invert_yaxis()\n",
    "ax2.invert_yaxis()\n",
    "ax1.set_title(\"Homegenous K map\")\n",
    "ax2.set_title(\"Heterogeneous K map\")\n",
    "plt.show()"
   ]
  }
 ],
 "metadata": {
  "kernelspec": {
   "display_name": "Yads",
   "language": "python",
   "name": "python3"
  },
  "language_info": {
   "codemirror_mode": {
    "name": "ipython",
    "version": 3
   },
   "file_extension": ".py",
   "mimetype": "text/x-python",
   "name": "python",
   "nbconvert_exporter": "python",
   "pygments_lexer": "ipython3",
   "version": "3.12.2"
  }
 },
 "nbformat": 4,
 "nbformat_minor": 2
}
