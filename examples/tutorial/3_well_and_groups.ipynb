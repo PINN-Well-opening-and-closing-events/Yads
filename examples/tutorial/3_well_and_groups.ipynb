{
 "cells": [
  {
   "cell_type": "code",
   "execution_count": 1,
   "metadata": {},
   "outputs": [
    {
     "name": "stdout",
     "output_type": "stream",
     "text": [
      "Path setup complete.\n"
     ]
    }
   ],
   "source": [
    "%run setup.ipynb"
   ]
  },
  {
   "cell_type": "markdown",
   "metadata": {},
   "source": [
    "# Well definition"
   ]
  },
  {
   "cell_type": "markdown",
   "metadata": {},
   "source": [
    "We use the standard well model as introdcued in [\\ref]"
   ]
  },
  {
   "cell_type": "code",
   "execution_count": 2,
   "metadata": {},
   "outputs": [],
   "source": [
    "from yads.wells import Well"
   ]
  },
  {
   "cell_type": "markdown",
   "metadata": {},
   "source": [
    "A well requires multiple property to be defined:\n",
    "\n",
    "- Name\n",
    "- Perforated cell(s) as np.array of coordinates\n",
    "- Radius in meters\n",
    "- Control mode as a dictionary: 'Neumann' control means control by flow rate while Dirichlet means controle by 'pressure'\n",
    "- Injected saturation: 1. means only C02 is injected, 0. means only water is injected\n",
    "- schedule as a list of list: [[t0, t1], [t2, t3] ....], when is well open or shut \n",
    "- mode: 'injector' or 'producor'. This is just a safety check to switch off wells if the reservoir state does not correspond to the well mode. For example if the well is producer but its pressure is superior to the local reservoir pressure leading to an injection in practice."
   ]
  },
  {
   "cell_type": "code",
   "execution_count": 6,
   "metadata": {},
   "outputs": [],
   "source": [
    "import numpy as np\n",
    "well = Well(\n",
    "    name=\"well\",\n",
    "    cell_group=np.array([[2.5, 2.5]]),\n",
    "    radius=0.1,\n",
    "    control={\"Dirichlet\": 1.*10e6},\n",
    "    s_inj=1.0,\n",
    "    schedule=[\n",
    "        [2, 5],\n",
    "    ],\n",
    "    mode=\"injector\",\n",
    ")"
   ]
  },
  {
   "cell_type": "markdown",
   "metadata": {},
   "source": [
    "# Groups "
   ]
  },
  {
   "cell_type": "markdown",
   "metadata": {},
   "source": [
    "Now that we have define a well, we need to link it to a grid for further use. To do so we use 'groups'"
   ]
  },
  {
   "cell_type": "code",
   "execution_count": 7,
   "metadata": {},
   "outputs": [],
   "source": [
    "import yads.mesh as ym"
   ]
  },
  {
   "cell_type": "code",
   "execution_count": 8,
   "metadata": {},
   "outputs": [],
   "source": [
    "grid = ym.two_D.create_2d_cartesian(Lx=5, Ly=5, Nx=5, Ny=5)"
   ]
  },
  {
   "cell_type": "markdown",
   "metadata": {},
   "source": [
    "There are two types of groups, cell and face groups. Face groups are usefull to define specific boundary conditions, while cell groups are mainly used for wells. "
   ]
  },
  {
   "cell_type": "code",
   "execution_count": 13,
   "metadata": {},
   "outputs": [
    {
     "data": {
      "text/plain": [
       "dict_keys(['0', 'lower', 'upper', 'right', 'left'])"
      ]
     },
     "execution_count": 13,
     "metadata": {},
     "output_type": "execute_result"
    }
   ],
   "source": [
    "# After grid creation, no cell groups are created\n",
    "grid.cell_groups.keys()\n",
    "# But boundary face groups are created, '0' group being the inner faces groups\n",
    "grid.face_groups.keys()"
   ]
  },
  {
   "cell_type": "code",
   "execution_count": 15,
   "metadata": {},
   "outputs": [
    {
     "data": {
      "text/plain": [
       "dict_keys(['well'])"
      ]
     },
     "execution_count": 15,
     "metadata": {},
     "output_type": "execute_result"
    }
   ],
   "source": [
    "# connect the well to the grid: \n",
    "grid.connect_well(well=well)\n",
    "grid.cell_groups.keys()"
   ]
  },
  {
   "cell_type": "markdown",
   "metadata": {},
   "source": [
    "It is possible to create other cell groups using specific methods:"
   ]
  },
  {
   "cell_type": "code",
   "execution_count": 18,
   "metadata": {},
   "outputs": [
    {
     "name": "stdout",
     "output_type": "stream",
     "text": [
      "Help on method add_cell_group_by_square in module yads.mesh.meshdata:\n",
      "\n",
      "add_cell_group_by_square(name: str, up_left: Tuple, down_right: Tuple) -> None method of yads.mesh.meshdata.MeshData instance\n",
      "    Create a new cell group using a square. All cells within this square are added to the group\n",
      "\n",
      "    Args:\n",
      "        name: name of  the cell group\n",
      "        up_left: coord (x,y) of the up left point of the square\n",
      "        down_right: coord (x,y) of the down right point of the square\n",
      "\n",
      "Help on method add_cell_group_by_coord in module yads.mesh.meshdata:\n",
      "\n",
      "add_cell_group_by_coord(name: str, coord: numpy.ndarray) -> None method of yads.mesh.meshdata.MeshData instance\n",
      "    Create a new group using coordinates.\n",
      "    For each coordinate, we look for the closest cell center and add its cell index to the cell group\n",
      "\n",
      "    Args:\n",
      "        name: name of  the cell group\n",
      "        coord: array of coord\n",
      "\n",
      "Help on method add_cell_group_by_index in module yads.mesh.meshdata:\n",
      "\n",
      "add_cell_group_by_index(name: str, cells_idx: List[int]) -> None method of yads.mesh.meshdata.MeshData instance\n",
      "    Create a new cell group using cells indexes\n",
      "\n",
      "    Args:\n",
      "        name: name of  the cell group\n",
      "        cells_idx: cell indexes belonging to the new cell group\n",
      "\n"
     ]
    }
   ],
   "source": [
    "help(grid.add_cell_group_by_square)\n",
    "help(grid.add_cell_group_by_coord)\n",
    "help(grid.add_cell_group_by_index)"
   ]
  },
  {
   "cell_type": "markdown",
   "metadata": {},
   "source": [
    "As well as face groups defined by a line"
   ]
  },
  {
   "cell_type": "code",
   "execution_count": 19,
   "metadata": {},
   "outputs": [
    {
     "name": "stdout",
     "output_type": "stream",
     "text": [
      "Help on method add_face_group_by_line in module yads.mesh.meshdata:\n",
      "\n",
      "add_face_group_by_line(name: str, point_1, point_2) method of yads.mesh.meshdata.MeshData instance\n",
      "\n"
     ]
    }
   ],
   "source": [
    "help(grid.add_face_group_by_line)"
   ]
  }
 ],
 "metadata": {
  "kernelspec": {
   "display_name": "Yads",
   "language": "python",
   "name": "python3"
  },
  "language_info": {
   "codemirror_mode": {
    "name": "ipython",
    "version": 3
   },
   "file_extension": ".py",
   "mimetype": "text/x-python",
   "name": "python",
   "nbconvert_exporter": "python",
   "pygments_lexer": "ipython3",
   "version": "3.12.2"
  }
 },
 "nbformat": 4,
 "nbformat_minor": 2
}
