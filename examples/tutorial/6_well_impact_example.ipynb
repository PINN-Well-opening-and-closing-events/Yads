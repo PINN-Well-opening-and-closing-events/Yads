{
 "cells": [
  {
   "cell_type": "code",
   "execution_count": 1,
   "metadata": {},
   "outputs": [
    {
     "name": "stdout",
     "output_type": "stream",
     "text": [
      "Path setup complete.\n"
     ]
    }
   ],
   "source": [
    "%run setup.ipynb"
   ]
  },
  {
   "cell_type": "markdown",
   "metadata": {},
   "source": [
    "In this tutorials, we assess the impact of a well opening or closure on the non-linear solver "
   ]
  },
  {
   "cell_type": "markdown",
   "metadata": {},
   "source": [
    "## Set up initial problem"
   ]
  },
  {
   "cell_type": "code",
   "execution_count": 10,
   "metadata": {},
   "outputs": [],
   "source": [
    "import numpy as np\n",
    "import matplotlib.pyplot as plt\n",
    "import yads.mesh as ym\n",
    "from yads.numerics.schemes import solss\n",
    "from yads.wells import Well"
   ]
  },
  {
   "cell_type": "code",
   "execution_count": 11,
   "metadata": {},
   "outputs": [],
   "source": [
    "# Define grid\n",
    "grid = ym.two_D.create_2d_cartesian(Lx=21, Ly=5, Nx=21, Ny=5)"
   ]
  },
  {
   "cell_type": "code",
   "execution_count": 12,
   "metadata": {},
   "outputs": [],
   "source": [
    "# Properties \n",
    "# Porosity\n",
    "phi = np.full(grid.nb_cells, 0.2)\n",
    "# Diffusion coefficient (i.e Permeability)\n",
    "K = np.full(grid.nb_cells, 100.0e-15)\n",
    "# viscosity\n",
    "mu_w = 0.571e-3\n",
    "mu_g = 0.0285e-3\n",
    "# Relative permeability model: only 'cross' (kr(s) = s) and 'quadratic' (kr(s) = s**2) are supported \n",
    "kr_model = \"quadratic\""
   ]
  },
  {
   "cell_type": "code",
   "execution_count": 13,
   "metadata": {},
   "outputs": [],
   "source": [
    "# BOUNDARY CONDITIONS #\n",
    "# Pressure\n",
    "# Small pressure gradient from left to right\n",
    "Pb = {\"left\": 110.0e5,  \"right\": 100.0e5}\n",
    "# Saturation\n",
    "# Inject gaz from left to right through Dirichlet boundary conditions\n",
    "Sb_d = {\"left\": 1.0, \"right\": 0.0}\n",
    "# No Neumann so we create a dict of None\n",
    "Sb_n = {\"left\": None, \"right\": None}\n",
    "Sb_dict = {\"Dirichlet\": Sb_d, \"Neumann\": Sb_n}"
   ]
  },
  {
   "cell_type": "code",
   "execution_count": 14,
   "metadata": {},
   "outputs": [],
   "source": [
    "total_sim_time = 1000\n",
    "dt = 100"
   ]
  },
  {
   "cell_type": "code",
   "execution_count": 39,
   "metadata": {},
   "outputs": [
    {
     "name": "stdout",
     "output_type": "stream",
     "text": [
      "step: 1 done in 0.0231 seconds with dt=1.000E+02s\n",
      "step: 2 done in 0.0082 seconds with dt=1.000E+02s\n",
      "step: 3 done in 0.0081 seconds with dt=1.000E+02s\n",
      "step: 4 done in 0.0073 seconds with dt=1.000E+02s\n",
      "step: 5 done in 0.0075 seconds with dt=1.000E+02s\n",
      "step: 6 done in 0.0082 seconds with dt=1.000E+02s\n",
      "step: 7 done in 0.0072 seconds with dt=1.000E+02s\n",
      "step: 8 done in 0.0111 seconds with dt=1.000E+02s\n",
      "step: 9 done in 0.0037 seconds with dt=1.000E+02s\n",
      "step: 10 done in 0.0044 seconds with dt=1.000E+02s\n",
      "total simulation time:  1000.0\n",
      "--- 0.09450697898864746 seconds ---\n"
     ]
    }
   ],
   "source": [
    "# gaz saturation initialization: Only water at first \n",
    "S = np.full(grid.nb_cells, 0.0)\n",
    "# Pressure initialization: Initial pressure guess, does matter a lot ! \n",
    "P = np.full(grid.nb_cells, 100.0e5)\n",
    "\n",
    "newton_list_no_well, dt_list_no_well = solss(\n",
    "        grid=grid,\n",
    "        P=P,\n",
    "        S=S,\n",
    "        Pb=Pb,\n",
    "        Sb_dict=Sb_dict,\n",
    "        phi=phi,\n",
    "        K=K,\n",
    "        mu_g=mu_g,\n",
    "        mu_w=mu_w,\n",
    "        dt_init=dt,\n",
    "        total_sim_time=total_sim_time,\n",
    "        kr_model=kr_model,\n",
    "        wells=[],\n",
    "        max_newton_iter=20,\n",
    "        eps=1e-6\n",
    "    )"
   ]
  },
  {
   "cell_type": "code",
   "execution_count": 40,
   "metadata": {},
   "outputs": [
    {
     "data": {
      "image/png": "[encoded data removed]",
      "text/plain": [
       "<Figure size 600x600 with 1 Axes>"
      ]
     },
     "metadata": {},
     "output_type": "display_data"
    }
   ],
   "source": [
    "fig, ax = plt.subplots(1, 1, figsize=(6, 6))\n",
    "ax.grid(True)\n",
    "ax.scatter(np.cumsum(dt_list_no_well), newton_list_no_well, label='No well')\n",
    "ax.set_xlabel('Time')\n",
    "ax.set_ylabel('Newton iterations')\n",
    "plt.legend()\n",
    "plt.show()"
   ]
  },
  {
   "cell_type": "code",
   "execution_count": 35,
   "metadata": {},
   "outputs": [],
   "source": [
    "# Create a well in the middle of the domain which inject from 200 to 600 seconds \n",
    "# The well inject with a slightly higher pressure than the reservoir presssure\n",
    "well = Well(\n",
    "    name=\"well\",\n",
    "    cell_group=np.array([[10.5, 2.5]]),\n",
    "    radius=0.1,\n",
    "    control={\"Dirichlet\": 110.0e5},\n",
    "    s_inj=1.0,\n",
    "    schedule=[\n",
    "        [200, 600],\n",
    "    ],\n",
    "    mode=\"injector\",\n",
    ")"
   ]
  },
  {
   "cell_type": "code",
   "execution_count": 36,
   "metadata": {},
   "outputs": [
    {
     "name": "stdout",
     "output_type": "stream",
     "text": [
      "step: 1 done in 0.0776 seconds with dt=1.000E+02s\n",
      "step: 2 done in 0.0082 seconds with dt=1.000E+02s\n",
      "step: 3 done in 0.0161 seconds with dt=1.000E+02s\n",
      "step: 4 done in 0.0118 seconds with dt=1.000E+02s\n",
      "step: 5 done in 0.0087 seconds with dt=1.000E+02s\n",
      "step: 6 done in 0.0136 seconds with dt=1.000E+02s\n",
      "step: 7 done in 0.0087 seconds with dt=1.000E+02s\n",
      "step: 8 done in 0.0037 seconds with dt=1.000E+02s\n",
      "step: 9 done in 0.0040 seconds with dt=1.000E+02s\n",
      "step: 10 done in 0.0047 seconds with dt=1.000E+02s\n",
      "total simulation time:  1000.0\n",
      "--- 0.16186285018920898 seconds ---\n"
     ]
    }
   ],
   "source": [
    "# gaz saturation initialization: Only water at first \n",
    "S = np.full(grid.nb_cells, 0.0)\n",
    "# Pressure initialization: Initial pressure guess, does matter a lot ! \n",
    "P = np.full(grid.nb_cells, 100.0e5)\n",
    "\n",
    "newton_list_well, dt_list_well = solss(\n",
    "        grid=grid,\n",
    "        P=P,\n",
    "        S=S,\n",
    "        Pb=Pb,\n",
    "        Sb_dict=Sb_dict,\n",
    "        phi=phi,\n",
    "        K=K,\n",
    "        mu_g=mu_g,\n",
    "        mu_w=mu_w,\n",
    "        dt_init=dt,\n",
    "        total_sim_time=total_sim_time,\n",
    "        kr_model=kr_model,\n",
    "        wells=[well],\n",
    "        max_newton_iter=20,\n",
    "        eps=1e-6\n",
    "    )"
   ]
  },
  {
   "cell_type": "markdown",
   "metadata": {},
   "source": [
    "During the well event, the number of Newton iterations required to converge is increased from 1 (No well case) to 2. The two main factors that drives the impact of this event are the time step dt and the well injection flow rate or the imposed pressure at the well location. "
   ]
  },
  {
   "cell_type": "code",
   "execution_count": 42,
   "metadata": {},
   "outputs": [
    {
     "data": {
      "image/png": "[encoded data removed]",
      "text/plain": [
       "<Figure size 600x600 with 1 Axes>"
      ]
     },
     "metadata": {},
     "output_type": "display_data"
    }
   ],
   "source": [
    "fig, ax = plt.subplots(1, 1, figsize=(6, 6))\n",
    "ax.grid(True)\n",
    "ax.scatter(np.cumsum(dt_list_well), newton_list_well, label='Small injection Well')\n",
    "ax.set_xlabel('Time')\n",
    "ax.set_ylabel('Newton iterations')\n",
    "plt.legend()\n",
    "plt.show()"
   ]
  },
  {
   "cell_type": "code",
   "execution_count": 43,
   "metadata": {},
   "outputs": [],
   "source": [
    "well = Well(\n",
    "    name=\"well\",\n",
    "    cell_group=np.array([[10.5, 2.5]]),\n",
    "    radius=0.1,\n",
    "    control={\"Dirichlet\": 200.0e5},\n",
    "    s_inj=1.0,\n",
    "    schedule=[\n",
    "        [200, 600],\n",
    "    ],\n",
    "    mode=\"injector\",\n",
    ")"
   ]
  },
  {
   "cell_type": "code",
   "execution_count": 47,
   "metadata": {},
   "outputs": [
    {
     "name": "stdout",
     "output_type": "stream",
     "text": [
      "step: 1 done in 0.0811 seconds with dt=1.000E+02s\n",
      "step: 2 done in 0.0079 seconds with dt=1.000E+02s\n",
      "step: 3 done in 0.0294 seconds with dt=1.000E+02s\n",
      "step: 4 done in 0.0150 seconds with dt=1.000E+02s\n",
      "step: 5 done in 0.0110 seconds with dt=1.000E+02s\n",
      "step: 6 done in 0.0148 seconds with dt=1.000E+02s\n",
      "step: 7 done in 0.0097 seconds with dt=1.000E+02s\n",
      "step: 8 done in 0.0084 seconds with dt=1.000E+02s\n",
      "step: 9 done in 0.0094 seconds with dt=1.000E+02s\n",
      "step: 10 done in 0.0070 seconds with dt=1.000E+02s\n",
      "total simulation time:  1000.0\n",
      "--- 0.1983029842376709 seconds ---\n"
     ]
    }
   ],
   "source": [
    "# gaz saturation initialization: Only water at first \n",
    "S = np.full(grid.nb_cells, 0.0)\n",
    "# Pressure initialization: Initial pressure guess, does matter a lot ! \n",
    "P = np.full(grid.nb_cells, 100.0e5)\n",
    "\n",
    "newton_list_strong_well, dt_list_strong_well = solss(\n",
    "        grid=grid,\n",
    "        P=P,\n",
    "        S=S,\n",
    "        Pb=Pb,\n",
    "        Sb_dict=Sb_dict,\n",
    "        phi=phi,\n",
    "        K=K,\n",
    "        mu_g=mu_g,\n",
    "        mu_w=mu_w,\n",
    "        dt_init=dt,\n",
    "        total_sim_time=total_sim_time,\n",
    "        kr_model=kr_model,\n",
    "        wells=[well],\n",
    "        max_newton_iter=20,\n",
    "        eps=1e-6\n",
    "    )"
   ]
  },
  {
   "cell_type": "markdown",
   "metadata": {},
   "source": [
    "Right after the well opening, the number of Newton iterations required to converge increases to 6 and remains at 3 for the totality of the well opening. "
   ]
  },
  {
   "cell_type": "code",
   "execution_count": 49,
   "metadata": {},
   "outputs": [
    {
     "data": {
      "image/png": "[encoded data removed]",
      "text/plain": [
       "<Figure size 600x600 with 1 Axes>"
      ]
     },
     "metadata": {},
     "output_type": "display_data"
    }
   ],
   "source": [
    "fig, ax = plt.subplots(1, 1, figsize=(6, 6))\n",
    "ax.grid(True)\n",
    "ax.scatter(np.cumsum(dt_list_strong_well), newton_list_strong_well, label='Strong injection Well')\n",
    "ax.set_xlabel('Time')\n",
    "ax.set_ylabel('Newton iterations')\n",
    "plt.legend()\n",
    "plt.show()"
   ]
  },
  {
   "cell_type": "code",
   "execution_count": null,
   "metadata": {},
   "outputs": [],
   "source": []
  }
 ],
 "metadata": {
  "kernelspec": {
   "display_name": "Yads",
   "language": "python",
   "name": "python3"
  },
  "language_info": {
   "codemirror_mode": {
    "name": "ipython",
    "version": 3
   },
   "file_extension": ".py",
   "mimetype": "text/x-python",
   "name": "python",
   "nbconvert_exporter": "python",
   "pygments_lexer": "ipython3",
   "version": "3.12.2"
  }
 },
 "nbformat": 4,
 "nbformat_minor": 2
}
