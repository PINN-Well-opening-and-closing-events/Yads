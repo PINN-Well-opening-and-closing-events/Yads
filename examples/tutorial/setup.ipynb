import sys
import os

current_dir = os.getcwd()
# Append the main directory to sys.path
sys.path.append(os.path.abspath(os.path.join(current_dir, '../..', '')))
print("Path setup complete.")
