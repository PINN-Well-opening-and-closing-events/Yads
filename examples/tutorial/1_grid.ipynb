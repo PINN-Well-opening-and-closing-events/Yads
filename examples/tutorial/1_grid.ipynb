{
 "cells": [
  {
   "cell_type": "markdown",
   "metadata": {},
   "source": []
  },
  {
   "cell_type": "code",
   "execution_count": 1,
   "metadata": {},
   "outputs": [
    {
     "name": "stdout",
     "output_type": "stream",
     "text": [
      "Path setup complete.\n"
     ]
    }
   ],
   "source": [
    "%run setup.ipynb"
   ]
  },
  {
   "cell_type": "markdown",
   "metadata": {},
   "source": []
  },
  {
   "cell_type": "code",
   "execution_count": 3,
   "metadata": {},
   "outputs": [],
   "source": [
    "import yads.mesh as ym"
   ]
  },
  {
   "cell_type": "markdown",
   "metadata": {},
   "source": [
    "## Grid creation"
   ]
  },
  {
   "cell_type": "markdown",
   "metadata": {},
   "source": [
    "### 1D grids \n",
    "grids can be created using the dedicated 1d function or using a 2d grid with 1 cell over the Y axis.   \n",
    "\n",
    "Only cartesian grid are supported by these methods and 2d is preferred to 1d in most cases. \n",
    "\n",
    "Triangular meshes loading was supported through msh/gmsh extensions but abandonned due to the (often) non-admissibility of these meshes with respect to finite volume method. "
   ]
  },
  {
   "cell_type": "code",
   "execution_count": 31,
   "metadata": {},
   "outputs": [],
   "source": [
    "grid_1d = ym.one_D.create_1d(nb_cells=5, interval=[0., 5])"
   ]
  },
  {
   "cell_type": "code",
   "execution_count": 32,
   "metadata": {},
   "outputs": [],
   "source": [
    "grid_2d = ym.two_D.create_2d_cartesian(Lx=5, Ly=1, Nx=5, Ny=1)"
   ]
  },
  {
   "cell_type": "markdown",
   "metadata": {},
   "source": [
    "In both cases, the resulting grid is a MeshData object"
   ]
  },
  {
   "cell_type": "code",
   "execution_count": 33,
   "metadata": {},
   "outputs": [
    {
     "name": "stdout",
     "output_type": "stream",
     "text": [
      "<class 'yads.mesh.meshdata.MeshData'> <class 'yads.mesh.meshdata.MeshData'>\n"
     ]
    }
   ],
   "source": [
    "print(type(grid_1d), type(grid_2d))"
   ]
  },
  {
   "cell_type": "markdown",
   "metadata": {},
   "source": [
    "## Properties "
   ]
  },
  {
   "cell_type": "markdown",
   "metadata": {},
   "source": [
    "We can extract basic grid properties:"
   ]
  },
  {
   "cell_type": "code",
   "execution_count": 34,
   "metadata": {},
   "outputs": [
    {
     "name": "stdout",
     "output_type": "stream",
     "text": [
      "Grid is cartesian, 2 dimensional, has 5 cells, 12 nodes 16 faces, and 12 boundary faces\n"
     ]
    }
   ],
   "source": [
    "print(f\"Grid is {grid_2d.type}, {grid_2d.dim} dimensional, has {grid_2d.nb_cells} cells, {grid_2d.nb_nodes} nodes {grid_2d.nb_faces} faces, and {grid_2d.nb_boundary_faces} boundary faces\")"
   ]
  },
  {
   "cell_type": "markdown",
   "metadata": {},
   "source": [
    "As well as more advanced properties returning numpy arrays:"
   ]
  },
  {
   "cell_type": "code",
   "execution_count": 41,
   "metadata": {},
   "outputs": [
    {
     "data": {
      "text/plain": [
       "array([[ 0,  1,  6,  7],\n",
       "       [ 1,  2,  7,  8],\n",
       "       [ 2,  3,  8,  9],\n",
       "       [ 3,  4,  9, 10],\n",
       "       [ 4,  5, 10, 11]])"
      ]
     },
     "execution_count": 41,
     "metadata": {},
     "output_type": "execute_result"
    }
   ],
   "source": [
    "grid_2d.cells # 5 cells composed of 4 nodes each "
   ]
  },
  {
   "cell_type": "code",
   "execution_count": 35,
   "metadata": {},
   "outputs": [
    {
     "data": {
      "text/plain": [
       "array([[0.5, 0.5],\n",
       "       [1.5, 0.5],\n",
       "       [2.5, 0.5],\n",
       "       [3.5, 0.5],\n",
       "       [4.5, 0.5]])"
      ]
     },
     "execution_count": 35,
     "metadata": {},
     "output_type": "execute_result"
    }
   ],
   "source": [
    "grid_2d.centers(item='cell') # item can either be 'cell' or 'face'"
   ]
  },
  {
   "cell_type": "markdown",
   "metadata": {},
   "source": [
    "### Saving and loading"
   ]
  },
  {
   "cell_type": "markdown",
   "metadata": {},
   "source": [
    "Grids can be saved in json extension for futur use. As the grid builder can be long for large meshes, saving for future use may be relevant."
   ]
  },
  {
   "cell_type": "code",
   "execution_count": 46,
   "metadata": {},
   "outputs": [],
   "source": [
    "# Saving\n",
    "grid_2d.to_json(json_path='2d_grid')"
   ]
  },
  {
   "cell_type": "code",
   "execution_count": 49,
   "metadata": {},
   "outputs": [],
   "source": [
    "# loading back\n",
    "grid_2d_loaded = ym.utils.load_json('2d_grid.json')"
   ]
  },
  {
   "cell_type": "code",
   "execution_count": 51,
   "metadata": {},
   "outputs": [
    {
     "name": "stdout",
     "output_type": "stream",
     "text": [
      "grid_2d is cartesian, 2 dimensional, has 5 cells, 12 nodes 16 faces, and 12 boundary faces\n",
      "grid_2d_loaded is cartesian, 2 dimensional, has 5 cells, 12 nodes 16 faces, and 12 boundary faces\n"
     ]
    }
   ],
   "source": [
    "print(f\"grid_2d is {grid_2d.type}, {grid_2d.dim} dimensional, has {grid_2d.nb_cells} cells, {grid_2d.nb_nodes} nodes {grid_2d.nb_faces} faces, and {grid_2d.nb_boundary_faces} boundary faces\")\n",
    "print(f\"grid_2d_loaded is {grid_2d_loaded.type}, {grid_2d_loaded.dim} dimensional, has {grid_2d_loaded.nb_cells} cells, {grid_2d_loaded.nb_nodes} nodes {grid_2d_loaded.nb_faces} faces, and {grid_2d_loaded.nb_boundary_faces} boundary faces\")"
   ]
  }
 ],
 "metadata": {
  "kernelspec": {
   "display_name": "Yads",
   "language": "python",
   "name": "python3"
  },
  "language_info": {
   "codemirror_mode": {
    "name": "ipython",
    "version": 3
   },
   "file_extension": ".py",
   "mimetype": "text/x-python",
   "name": "python",
   "nbconvert_exporter": "python",
   "pygments_lexer": "ipython3",
   "version": "3.12.2"
  }
 },
 "nbformat": 4,
 "nbformat_minor": 2
}
