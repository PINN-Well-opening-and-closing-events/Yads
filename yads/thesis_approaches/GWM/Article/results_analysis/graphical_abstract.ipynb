{
 "cells": [
  {
   "cell_type": "code",
   "execution_count": 1,
   "metadata": {},
   "outputs": [],
   "source": [
    "import pandas as pd\n",
    "from ast import literal_eval\n",
    "from sklearn.model_selection import train_test_split\n",
    "import numpy as np\n",
    "import matplotlib.pyplot as plt\n",
    "import matplotlib as mpl\n",
    "from mpl_toolkits.axes_grid1 import make_axes_locatable\n",
    "import seaborn as sns\n",
    "import matplotlib\n",
    "cmap = matplotlib.colormaps['viridis']"
   ]
  },
  {
   "cell_type": "code",
   "execution_count": 2,
   "metadata": {},
   "outputs": [],
   "source": [
    "variable_df = pd.read_csv('data/results_variable_2.csv', sep='\\t',\n",
    "                             converters= {'GWM_S_predict_local': literal_eval,\n",
    "                                          'Local_S_predict_local': literal_eval,\n",
    "                                          'S_i_plus_1_classic': literal_eval,\n",
    "                                          'P_imp':literal_eval,\n",
    "                                          'S0': literal_eval\n",
    "                                          })"
   ]
  },
  {
   "cell_type": "code",
   "execution_count": 3,
   "metadata": {},
   "outputs": [
    {
     "data": {
      "text/plain": [
       "Index(['q', 'total_sim_time', 'S0', 'well_loc_idx', 'well_loc', 'P_imp',\n",
       "       'GWM_S_predict_local', 'Local_S_predict_local', 'P_i_plus_1_classic',\n",
       "       'S_i_plus_1_classic', 'nb_newton_classic', 'dt_sim_classic',\n",
       "       'norms_classic', 'GWM_S_i_plus_1_hybrid', 'GWM_P_i_plus_1_hybrid',\n",
       "       'GWM_nb_newton_hybrid', 'GWM_dt_sim_hybrid', 'GWM_norms_hybrid',\n",
       "       'Local_S_i_plus_1_hybrid', 'Local_P_i_plus_1_hybrid',\n",
       "       'Local_nb_newton_hybrid', 'Local_dt_sim_hybrid', 'Local_norms_hybrid',\n",
       "       'S_DD_local', 'P_DD_local', 'S_i_plus_1_DD', 'P_i_plus_1_DD',\n",
       "       'nb_newton_DD', 'dt_sim_DD', 'norms_DD'],\n",
       "      dtype='object')"
      ]
     },
     "execution_count": 3,
     "metadata": {},
     "output_type": "execute_result"
    }
   ],
   "source": [
    "variable_df.columns"
   ]
  },
  {
   "cell_type": "code",
   "execution_count": 4,
   "metadata": {},
   "outputs": [],
   "source": [
    "i = 0"
   ]
  },
  {
   "cell_type": "code",
   "execution_count": 5,
   "metadata": {},
   "outputs": [
    {
     "name": "stdout",
     "output_type": "stream",
     "text": [
      "0\n"
     ]
    },
    {
     "data": {
      "image/png": "[encoded data removed]",
      "text/plain": [
       "<Figure size 1600x400 with 4 Axes>"
      ]
     },
     "metadata": {},
     "output_type": "display_data"
    }
   ],
   "source": [
    "sample = variable_df.loc[37]\n",
    "print(i)\n",
    "fig, axs = plt.subplots(1, 4, figsize=(16, 4))\n",
    "axs[0].imshow(np.full((9,9), sample['S0']))\n",
    "axs[1].imshow(np.array(sample['Local_S_predict_local']).reshape(9, 9).T)\n",
    "axs[2].imshow(np.array(sample['GWM_S_predict_local']).reshape(9, 9).T)\n",
    "axs[3].imshow(np.array(sample['S_i_plus_1_classic']).reshape(95, 60).T)\n",
    "\n",
    "for ax in axs:\n",
    "    ax.invert_yaxis()\n",
    "    ax.xaxis.set_major_locator(matplotlib.ticker.NullLocator())\n",
    "    ax.yaxis.set_major_locator(matplotlib.ticker.NullLocator())\n",
    "\n",
    "plt.show()\n",
    "i+=1"
   ]
  },
  {
   "cell_type": "code",
   "execution_count": null,
   "metadata": {},
   "outputs": [],
   "source": []
  },
  {
   "cell_type": "markdown",
   "metadata": {},
   "source": [
    "### Global CO2 storage simulation"
   ]
  },
  {
   "cell_type": "code",
   "execution_count": 11,
   "metadata": {},
   "outputs": [
    {
     "name": "stdout",
     "output_type": "stream",
     "text": [
      "Path setup complete.\n"
     ]
    }
   ],
   "source": [
    "import sys\n",
    "import os\n",
    "\n",
    "# Adjust the sys.path to include the src directory\n",
    "current_dir = os.getcwd()\n",
    "sys.path.append(os.path.abspath(os.path.join(current_dir, '../../../../..', '')))\n",
    "print(\"Path setup complete.\")"
   ]
  },
  {
   "cell_type": "code",
   "execution_count": 12,
   "metadata": {},
   "outputs": [],
   "source": [
    "from yads.mesh.utils import load_json"
   ]
  },
  {
   "cell_type": "code",
   "execution_count": 13,
   "metadata": {},
   "outputs": [
    {
     "name": "stderr",
     "output_type": "stream",
     "text": [
      "/var/folders/lb/7819f89d69v17j4h5j74p8kc0000gp/T/ipykernel_1395/1944050796.py:20: MatplotlibDeprecationWarning: The get_cmap function was deprecated in Matplotlib 3.7 and will be removed two minor releases later. Use ``matplotlib.colormaps[name]`` or ``matplotlib.colormaps.get_cmap(obj)`` instead.\n",
      "  cmap = plt.cm.get_cmap('Greens')\n"
     ]
    }
   ],
   "source": [
    "grid = load_json(\"../../../../../meshes/SHP_CO2/2D/SHP_CO2_2D_S.json\")\n",
    "\n",
    "# Permeability barrier zone creation\n",
    "barrier_1 = grid.find_cells_inside_square((1000.0, 2000.0), (1250.0, 0))\n",
    "barrier_2 = grid.find_cells_inside_square((2250.0, 3000.0), (2500.0, 1000.0))\n",
    "barrier_3 = grid.find_cells_inside_square((3500.0, 3000.0), (3750.0, 500.0))\n",
    "\n",
    "K = np.full(grid.nb_cells, 0)\n",
    "permeability_barrier = 1\n",
    "K[barrier_1] = permeability_barrier\n",
    "K[barrier_2] = permeability_barrier\n",
    "K[barrier_3] = permeability_barrier\n",
    "\n",
    "K_np = K.reshape((95, 60)).T\n",
    "\n",
    "value_to_plot = 1\n",
    "\n",
    "# Create a mask for the value_to_plot\n",
    "masked_array = np.ma.masked_where(K_np != value_to_plot, K_np)\n",
    "cmap = plt.cm.get_cmap('Greens')\n",
    "cmap.set_under(color='white', alpha=0)  \n"
   ]
  },
  {
   "cell_type": "code",
   "execution_count": 14,
   "metadata": {},
   "outputs": [],
   "source": [
    "from matplotlib.colors import ListedColormap\n",
    "\n",
    "well_loc = np.full(grid.nb_cells, 0)\n",
    "well_loc[sample['well_loc_idx']] = 1.\n",
    "well_loc = well_loc.reshape(95, 60).T\n",
    "\n",
    "value_to_plot = 1\n",
    "\n",
    "well_masked = np.ma.masked_where(well_loc != value_to_plot, well_loc)\n",
    "# cmap_red = plt.cm.get_cmap('Reds')\n",
    "# cmap_red.set_under(color='white', alpha=0) \n",
    "cmap_red =  ListedColormap(['white', 'red'])"
   ]
  },
  {
   "cell_type": "code",
   "execution_count": 98,
   "metadata": {},
   "outputs": [
    {
     "data": {
      "image/png": "[encoded data removed]",
      "text/plain": [
       "<Figure size 1200x500 with 2 Axes>"
      ]
     },
     "metadata": {},
     "output_type": "display_data"
    }
   ],
   "source": [
    "sample = variable_df.loc[37]\n",
    "fig, axs = plt.subplots(1, 2, figsize=(12, 5))\n",
    "axs[0].imshow(np.full((60,95), sample['S0']))\n",
    "axs[0].imshow(masked_array, cmap=cmap, interpolation='nearest', vmin=0.5)\n",
    "axs[0].imshow(well_masked, cmap=cmap_red, interpolation='nearest', vmin=0.5)\n",
    "\n",
    "axs[1].imshow(np.array(sample['S_i_plus_1_classic']).reshape(95, 60).T)\n",
    "axs[1].imshow(masked_array, cmap=cmap, interpolation='nearest', vmin=0.5)\n",
    "\n",
    "for ax in axs:\n",
    "    ax.invert_yaxis()\n",
    "    ax.xaxis.set_major_locator(matplotlib.ticker.NullLocator())\n",
    "    ax.yaxis.set_major_locator(matplotlib.ticker.NullLocator())\n",
    "fig.tight_layout()\n",
    "plt.savefig('GA_Global_sim.pdf', bbox_inches=\"tight\")\n",
    "plt.show()"
   ]
  },
  {
   "cell_type": "code",
   "execution_count": 16,
   "metadata": {},
   "outputs": [
    {
     "data": {
      "image/png": "[encoded data removed]",
      "text/plain": [
       "<Figure size 1200x500 with 1 Axes>"
      ]
     },
     "metadata": {},
     "output_type": "display_data"
    }
   ],
   "source": [
    "well_small = np.full(81, 0)\n",
    "well_small[40] = 1.\n",
    "well_small = well_small.reshape(9, 9).T\n",
    "\n",
    "value_to_plot = 1\n",
    "\n",
    "well_small = np.ma.masked_where(well_small != value_to_plot, well_small)\n",
    "cmap_red =  ListedColormap(['white', 'red'])\n",
    "\n",
    "\n",
    "fig, axs = plt.subplots(1, 1, figsize=(12, 5))\n",
    "axs.imshow(np.full((9,9), sample['S0']))\n",
    "axs.imshow(well_small, cmap=cmap_red, interpolation='nearest', vmin=0.5)\n",
    "axs.invert_yaxis()\n",
    "axs.xaxis.set_major_locator(matplotlib.ticker.NullLocator())\n",
    "axs.yaxis.set_major_locator(matplotlib.ticker.NullLocator())\n",
    "fig.tight_layout()\n",
    "plt.savefig('GA_local_S0.pdf', bbox_inches=\"tight\")\n",
    "plt.show()"
   ]
  },
  {
   "cell_type": "markdown",
   "metadata": {},
   "source": [
    "### Prediction for preconditioning"
   ]
  },
  {
   "cell_type": "code",
   "execution_count": 104,
   "metadata": {},
   "outputs": [
    {
     "data": {
      "image/png": "[encoded data removed]",
      "text/plain": [
       "<Figure size 500x500 with 1 Axes>"
      ]
     },
     "metadata": {},
     "output_type": "display_data"
    }
   ],
   "source": [
    "sample = variable_df.loc[37]\n",
    "fig, axs = plt.subplots(1, 1, figsize=(5, 5))\n",
    "axs.imshow(np.array(sample['GWM_S_predict_local']).reshape(9, 9).T)\n",
    "\n",
    "axs.invert_yaxis()\n",
    "axs.xaxis.set_major_locator(matplotlib.ticker.NullLocator())\n",
    "axs.yaxis.set_major_locator(matplotlib.ticker.NullLocator())\n",
    "fig.tight_layout()\n",
    "plt.savefig('GA_GWM_pred.pdf', bbox_inches=\"tight\")\n",
    "plt.show()"
   ]
  },
  {
   "cell_type": "markdown",
   "metadata": {},
   "source": [
    "### Synthetic dataset on small domain"
   ]
  },
  {
   "cell_type": "code",
   "execution_count": 2,
   "metadata": {},
   "outputs": [],
   "source": [
    "GWM_df = pd.read_csv('../data/gwm_dataset_3100.csv', sep='\\t',\n",
    "                             converters= {'P_imp': literal_eval,\n",
    "                                          'P': literal_eval,\n",
    "                                          'S0': literal_eval,\n",
    "                                          'S':literal_eval\n",
    "                                          })"
   ]
  },
  {
   "cell_type": "code",
   "execution_count": 6,
   "metadata": {},
   "outputs": [
    {
     "name": "stdout",
     "output_type": "stream",
     "text": [
      "22320\n",
      "0.8\n"
     ]
    }
   ],
   "source": [
    "GWM_test_df = pd.read_csv('../data/test_gwm_dataset_3100.csv', sep='\\t',\n",
    "                             )\n",
    "print(len(GWM_test_df))\n",
    "\n",
    "GWM_test_df = pd.read_csv('../data/train_gwm_dataset_3100.csv', sep='\\t',\n",
    "                             )\n",
    "print(len(GWM_test_df)/len(GWM_df))"
   ]
  },
  {
   "cell_type": "code",
   "execution_count": 3,
   "metadata": {},
   "outputs": [
    {
     "name": "stdout",
     "output_type": "stream",
     "text": [
      "111600\n"
     ]
    }
   ],
   "source": [
    "GWM_df.columns\n",
    "print(len(GWM_df))"
   ]
  },
  {
   "cell_type": "code",
   "execution_count": 409,
   "metadata": {},
   "outputs": [
    {
     "data": {
      "image/png": "[encoded data removed]",
      "text/plain": [
       "<Figure size 1600x800 with 8 Axes>"
      ]
     },
     "metadata": {},
     "output_type": "display_data"
    }
   ],
   "source": [
    "fig, axs = plt.subplots(2, 4, figsize=(16, 8))\n",
    "samples = [GWM_df.loc[9], GWM_df.loc[3788], GWM_df.loc[3789], GWM_df.loc[13668]]\n",
    "\n",
    "for i, sample in enumerate(samples):\n",
    "    axs[1][i].imshow(np.array(sample['S']).reshape(9, 9).T)\n",
    "    axs[0][i].imshow(np.array(sample['P_imp']).reshape(9, 9).T, cmap='coolwarm')\n",
    "    # axs[0][i].plot(4, 4, marker='o', color='red', markersize=20)\n",
    "\n",
    "\n",
    "    axs[0][i].invert_yaxis()\n",
    "    axs[1][i].invert_yaxis()\n",
    "\n",
    "    axs[0][i].xaxis.set_major_locator(matplotlib.ticker.NullLocator())\n",
    "    axs[0][i].yaxis.set_major_locator(matplotlib.ticker.NullLocator())\n",
    "\n",
    "    axs[1][i].xaxis.set_major_locator(matplotlib.ticker.NullLocator())\n",
    "    axs[1][i].yaxis.set_major_locator(matplotlib.ticker.NullLocator())\n",
    "\n",
    "fig.tight_layout()\n",
    "plt.savefig('GA_GWM_dataset.pdf', bbox_inches=\"tight\")\n",
    "plt.show()"
   ]
  },
  {
   "cell_type": "code",
   "execution_count": null,
   "metadata": {},
   "outputs": [],
   "source": []
  }
 ],
 "metadata": {
  "kernelspec": {
   "display_name": "Yads",
   "language": "python",
   "name": "python3"
  },
  "language_info": {
   "codemirror_mode": {
    "name": "ipython",
    "version": 3
   },
   "file_extension": ".py",
   "mimetype": "text/x-python",
   "name": "python",
   "nbconvert_exporter": "python",
   "pygments_lexer": "ipython3",
   "version": "3.12.2"
  }
 },
 "nbformat": 4,
 "nbformat_minor": 2
}
