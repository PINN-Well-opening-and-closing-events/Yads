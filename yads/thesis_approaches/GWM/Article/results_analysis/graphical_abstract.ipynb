{
 "cells": [
  {
   "cell_type": "code",
   "execution_count": 1,
   "metadata": {},
   "outputs": [],
   "source": [
    "import pandas as pd\n",
    "from ast import literal_eval\n",
    "from sklearn.model_selection import train_test_split\n",
    "import numpy as np\n",
    "import matplotlib.pyplot as plt\n",
    "import matplotlib as mpl\n",
    "from mpl_toolkits.axes_grid1 import make_axes_locatable\n",
    "import seaborn as sns\n",
    "import matplotlib\n",
    "cmap = matplotlib.colormaps['viridis']"
   ]
  },
  {
   "cell_type": "code",
   "execution_count": 3,
   "metadata": {},
   "outputs": [],
   "source": [
    "variable_df = pd.read_csv('data/results_variable_2.csv', sep='\\t',\n",
    "                             converters= {'GWM_S_predict_local': literal_eval,\n",
    "                                          'Local_S_predict_local': literal_eval,\n",
    "                                          'S_i_plus_1_classic': literal_eval,\n",
    "                                          'S0': literal_eval\n",
    "                                          })"
   ]
  },
  {
   "cell_type": "code",
   "execution_count": 4,
   "metadata": {},
   "outputs": [
    {
     "data": {
      "text/plain": [
       "Index(['q', 'total_sim_time', 'S0', 'well_loc_idx', 'well_loc', 'P_imp',\n",
       "       'GWM_S_predict_local', 'Local_S_predict_local', 'P_i_plus_1_classic',\n",
       "       'S_i_plus_1_classic', 'nb_newton_classic', 'dt_sim_classic',\n",
       "       'norms_classic', 'GWM_S_i_plus_1_hybrid', 'GWM_P_i_plus_1_hybrid',\n",
       "       'GWM_nb_newton_hybrid', 'GWM_dt_sim_hybrid', 'GWM_norms_hybrid',\n",
       "       'Local_S_i_plus_1_hybrid', 'Local_P_i_plus_1_hybrid',\n",
       "       'Local_nb_newton_hybrid', 'Local_dt_sim_hybrid', 'Local_norms_hybrid',\n",
       "       'S_DD_local', 'P_DD_local', 'S_i_plus_1_DD', 'P_i_plus_1_DD',\n",
       "       'nb_newton_DD', 'dt_sim_DD', 'norms_DD'],\n",
       "      dtype='object')"
      ]
     },
     "execution_count": 4,
     "metadata": {},
     "output_type": "execute_result"
    }
   ],
   "source": [
    "variable_df.columns"
   ]
  },
  {
   "cell_type": "code",
   "execution_count": 9,
   "metadata": {},
   "outputs": [],
   "source": [
    "i = 0"
   ]
  },
  {
   "cell_type": "code",
   "execution_count": 66,
   "metadata": {},
   "outputs": [
    {
     "name": "stdout",
     "output_type": "stream",
     "text": [
      "56\n"
     ]
    },
    {
     "data": {
      "image/png": "[encoded data removed]",
      "text/plain": [
       "<Figure size 1600x400 with 4 Axes>"
      ]
     },
     "metadata": {},
     "output_type": "display_data"
    }
   ],
   "source": [
    "sample = variable_df.loc[i]\n",
    "print(i)\n",
    "fig, axs = plt.subplots(1, 4, figsize=(16, 4))\n",
    "axs[0].imshow(np.full((9,9), sample['S0']))\n",
    "axs[1].imshow(np.array(sample['Local_S_predict_local']).reshape(9, 9).T)\n",
    "axs[2].imshow(np.array(sample['GWM_S_predict_local']).reshape(9, 9).T)\n",
    "axs[3].imshow(np.array(sample['S_i_plus_1_classic']).reshape(95, 60).T)\n",
    "\n",
    "for ax in axs:\n",
    "    ax.invert_yaxis()\n",
    "    ax.xaxis.set_major_locator(matplotlib.ticker.NullLocator())\n",
    "    ax.yaxis.set_major_locator(matplotlib.ticker.NullLocator())\n",
    "\n",
    "plt.show()\n",
    "i+=1"
   ]
  },
  {
   "cell_type": "code",
   "execution_count": null,
   "metadata": {},
   "outputs": [],
   "source": []
  }
 ],
 "metadata": {
  "kernelspec": {
   "display_name": "Yads",
   "language": "python",
   "name": "python3"
  },
  "language_info": {
   "codemirror_mode": {
    "name": "ipython",
    "version": 3
   },
   "file_extension": ".py",
   "mimetype": "text/x-python",
   "name": "python",
   "nbconvert_exporter": "python",
   "pygments_lexer": "ipython3",
   "version": "3.12.2"
  }
 },
 "nbformat": 4,
 "nbformat_minor": 2
}
