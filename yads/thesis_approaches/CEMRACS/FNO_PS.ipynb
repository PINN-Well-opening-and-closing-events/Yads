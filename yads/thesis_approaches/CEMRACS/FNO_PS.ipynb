{
  "cells": [
    {
      "cell_type": "code",
      "execution_count": 1,
      "metadata": {
        "colab": {
          "base_uri": "https://localhost:8080/"
        },
        "id": "SKw6zfIwtcxO",
        "outputId": "cc73ccc6-4b38-4cca-de1e-a8f241c181be"
      },
      "outputs": [],
      "source": [
        "## Google colab compatible pytorch version \n",
        "# !pip uninstall torch -y\n",
        "# !pip install torch==1.13.1 torchvision==0.14.1 torchaudio==0.13.1"
      ]
    },
    {
      "cell_type": "code",
      "execution_count": 2,
      "metadata": {
        "id": "PGOR0dDwxqzU"
      },
      "outputs": [],
      "source": [
        "from matplotlib import rc\n",
        "rc('text', usetex=False)\n",
        "rc('font', **{'family': 'serif', 'size' : 12})\n",
        "rc('figure', **{'figsize' : (5, 3)})"
      ]
    },
    {
      "cell_type": "code",
      "execution_count": 3,
      "metadata": {
        "id": "c62-gsuAjtp0"
      },
      "outputs": [],
      "source": [
        "import pandas as pd\n",
        "from ast import literal_eval\n",
        "import numpy as np\n",
        "from pickle import dump\n",
        "import matplotlib.pyplot as plt\n",
        "from torch.utils.data import DataLoader, Dataset\n",
        "from copy import deepcopy"
      ]
    },
    {
      "cell_type": "code",
      "execution_count": 4,
      "metadata": {
        "id": "yzh8ApoOj2Qp"
      },
      "outputs": [],
      "source": [
        "import torch\n",
        "from torch import nn, optim\n",
        "import torch.nn.functional as F"
      ]
    },
    {
      "cell_type": "code",
      "execution_count": 5,
      "metadata": {
        "id": "bCHrwWqhj2Yd"
      },
      "outputs": [],
      "source": [
        "torch.manual_seed(42)\n",
        "np.random.seed(42)"
      ]
    },
    {
      "cell_type": "code",
      "execution_count": 6,
      "metadata": {
        "id": "nrCsFd75j2bB"
      },
      "outputs": [],
      "source": [
        "class UnitGaussianNormalizer(object):\n",
        "    def __init__(self, x, eps=0.00001):\n",
        "        super(UnitGaussianNormalizer, self).__init__()\n",
        "\n",
        "        # x could be in shape of ntrain*n or ntrain*T*n or ntrain*n*T\n",
        "        self.mean = torch.mean(x, 0)\n",
        "        self.std = torch.std(x, 0)\n",
        "        self.eps = eps\n",
        "\n",
        "    def encode(self, x):\n",
        "        x = (x - self.mean) / (self.std + self.eps)\n",
        "        return x\n",
        "\n",
        "    def decode(self, x, sample_idx=None):\n",
        "        if sample_idx is None:\n",
        "            std = self.std + self.eps # n\n",
        "            mean = self.mean\n",
        "        else:\n",
        "            if len(self.mean.shape) == len(sample_idx[0].shape):\n",
        "                std = self.std[sample_idx] + self.eps  # batch*n\n",
        "                mean = self.mean[sample_idx]\n",
        "            if len(self.mean.shape) > len(sample_idx[0].shape):\n",
        "                std = self.std[:,sample_idx]+ self.eps # T*batch*n\n",
        "                mean = self.mean[:,sample_idx]\n",
        "\n",
        "        # x is in shape of batch*n or T*batch*n\n",
        "        x = (x * std) + mean\n",
        "        return x\n",
        "\n",
        "    def cuda(self):\n",
        "        self.mean = self.mean.cuda()\n",
        "        self.std = self.std.cuda()\n",
        "\n",
        "    def cpu(self):\n",
        "        self.mean = self.mean.cpu()\n",
        "        self.std = self.std.cpu()"
      ]
    },
    {
      "cell_type": "code",
      "execution_count": 7,
      "metadata": {
        "id": "7uwQJC-Mj2d2"
      },
      "outputs": [],
      "source": [
        "class MyDataset(Dataset):\n",
        "    def __init__(self, file_name, P_normalizer=None):\n",
        "        df = pd.read_csv(file_name, sep=\"\\t\", converters={\"S\": literal_eval, \"S0\": literal_eval, 'P': literal_eval, 'P_init': literal_eval, 'Pb': literal_eval})\n",
        "\n",
        "        # create features maps\n",
        "        Pb_dict = df['Pb']\n",
        "        Pb_list = [pb_l['left'] for pb_l in Pb_dict]\n",
        "        Pb = torch.from_numpy(np.array([np.full((100, 1), pb_l) for pb_l in Pb_list]))\n",
        "\n",
        "        S0 = torch.from_numpy(np.array([np.array(v).reshape(100, 1) for v in df['S0'].values]))\n",
        "        P0 = torch.from_numpy(np.array([np.array(v).reshape(100, 1) for v in df['P_init'].values]))\n",
        "\n",
        "        P = torch.from_numpy(np.array([np.array(v).reshape(100, 1) for v in df['P'].values]))\n",
        "        S = torch.from_numpy(np.array([np.array(v).reshape(100, 1) for v in df['S'].values]))\n",
        "\n",
        "        # Pb = torch.log10(Pb)\n",
        "        # P0 = torch.log10(P0)\n",
        "        # P = torch.log10(P)\n",
        "\n",
        "        if not P_normalizer:\n",
        "          P_normalizer = UnitGaussianNormalizer(torch.cat([P, P0, Pb], 0))\n",
        "\n",
        "        P = P_normalizer.encode(P)\n",
        "        P0 = P_normalizer.encode(P0)\n",
        "        Pb = P_normalizer.encode(Pb)\n",
        "\n",
        "        x = torch.cat([S0, P0, Pb], 2)\n",
        "\n",
        "        y = torch.cat([S, P], 2)\n",
        "\n",
        "        self.x_train=x.float()\n",
        "        self.y_train=y.float()\n",
        "        self.P_normalizer = P_normalizer\n",
        "\n",
        "\n",
        "    def __len__(self):\n",
        "        return len(self.y_train)\n",
        "\n",
        "    def __getitem__(self,idx):\n",
        "        return self.x_train[idx],self.y_train[idx]\n",
        "\n",
        "    def normalizers(self):\n",
        "      return self.P_normalizer"
      ]
    },
    {
      "cell_type": "code",
      "execution_count": 8,
      "metadata": {
        "id": "2yy7fIbtj2gV"
      },
      "outputs": [],
      "source": [
        "test = MyDataset(\"data/test.csv\")\n",
        "train = MyDataset(\"data/train.csv\")"
      ]
    },
    {
      "cell_type": "code",
      "execution_count": 9,
      "metadata": {
        "id": "UBqW8BhEj2lr"
      },
      "outputs": [],
      "source": [
        "BATCH_SIZE=128"
      ]
    },
    {
      "cell_type": "code",
      "execution_count": 10,
      "metadata": {
        "id": "8f_H1LKuqD-T"
      },
      "outputs": [],
      "source": [
        "train_dataloader = DataLoader(train, batch_size=BATCH_SIZE, shuffle=True)\n",
        "test_dataloader = DataLoader(test, batch_size=BATCH_SIZE, shuffle=False)"
      ]
    },
    {
      "cell_type": "code",
      "execution_count": 11,
      "metadata": {
        "id": "_lfr_-F1qEAt"
      },
      "outputs": [],
      "source": [
        "class SpectralConv1d(nn.Module):\n",
        "    def __init__(self, in_channels, out_channels, modes1):\n",
        "        super(SpectralConv1d, self).__init__()\n",
        "\n",
        "        \"\"\"\n",
        "        1D Fourier layer. It does FFT, linear transform, and Inverse FFT.\n",
        "        \"\"\"\n",
        "\n",
        "        self.in_channels = in_channels\n",
        "        self.out_channels = out_channels\n",
        "        self.modes1 = (\n",
        "            modes1  # Number of Fourier modes to multiply, at most floor(N/2) + 1\n",
        "        )\n",
        "\n",
        "        self.scale = 1 / (in_channels * out_channels)\n",
        "        self.weights1 = nn.Parameter(\n",
        "            self.scale\n",
        "            * torch.rand(in_channels, out_channels, self.modes1, dtype=torch.cfloat)\n",
        "        )\n",
        "\n",
        "    # Complex multiplication\n",
        "    def compl_mul1d(self, input, weights):\n",
        "        # (batch, in_channel, x ), (in_channel, out_channel, x) -> (batch, out_channel, x)\n",
        "        return torch.einsum(\"bix,iox->box\", input, weights)\n",
        "\n",
        "    def forward(self, x):\n",
        "        batchsize = x.shape[0]\n",
        "        # Compute Fourier coeffcients up to factor of e^(- something constant)\n",
        "        x_ft = torch.fft.rfft(x)\n",
        "\n",
        "        # Multiply relevant Fourier modes\n",
        "        out_ft = torch.zeros(\n",
        "            batchsize,\n",
        "            self.out_channels,\n",
        "            x.size(-1) // 2 + 1,\n",
        "            device=x.device,\n",
        "            dtype=torch.cfloat,\n",
        "        )\n",
        "        out_ft[:, :, : self.modes1] = self.compl_mul1d(\n",
        "            x_ft[:, :, : self.modes1], self.weights1\n",
        "        )\n",
        "\n",
        "        # Return to physical space\n",
        "        x = torch.fft.irfft(out_ft, n=x.size(-1))\n",
        "        return x\n",
        "\n",
        "\n",
        "class MLP(nn.Module):\n",
        "    def __init__(self, in_channels, out_channels, mid_channels):\n",
        "        super(MLP, self).__init__()\n",
        "        self.mlp1 = nn.Conv1d(in_channels, mid_channels, 1)\n",
        "        self.mlp2 = nn.Conv1d(mid_channels, out_channels, 1)\n",
        "\n",
        "    def forward(self, x):\n",
        "        x = self.mlp1(x)\n",
        "        x = F.gelu(x)\n",
        "        x = self.mlp2(x)\n",
        "        return x\n",
        "\n",
        "\n",
        "class FNO1d(nn.Module):\n",
        "    def __init__(self, modes, width, n_features):\n",
        "        super(FNO1d, self).__init__()\n",
        "\n",
        "        \"\"\"\n",
        "        The overall network. It contains 4 layers of the Fourier layer.\n",
        "        1. Lift the input to the desire channel dimension by self.fc0 .\n",
        "        2. 4 layers of the integral operators u' = (W + K)(u).\n",
        "            W defined by self.w; K defined by self.conv .\n",
        "        3. Project from the channel space to the output space by self.fc1 and self.fc2 .\n",
        "\n",
        "        input: the solution of the initial condition and location (a(x), x)\n",
        "        input shape: (batchsize, x=s, c=2)\n",
        "        output: the solution of a later timestep\n",
        "        output shape: (batchsize, x=s, c=1)\n",
        "        \"\"\"\n",
        "\n",
        "        self.modes1 = modes\n",
        "        self.width = width\n",
        "        self.padding = 6  # pad the domain if input is non-periodic\n",
        "        self.n_features = n_features\n",
        "\n",
        "        self.p = nn.Linear(n_features, self.width)\n",
        "        self.conv0 = SpectralConv1d(self.width, self.width, self.modes1)\n",
        "        self.conv1 = SpectralConv1d(self.width, self.width, self.modes1)\n",
        "        self.conv2 = SpectralConv1d(self.width, self.width, self.modes1)\n",
        "        self.conv3 = SpectralConv1d(self.width, self.width, self.modes1)\n",
        "        self.mlp0 = MLP(self.width, self.width, self.width)\n",
        "        self.mlp1 = MLP(self.width, self.width, self.width)\n",
        "        self.mlp2 = MLP(self.width, self.width, self.width)\n",
        "        self.mlp3 = MLP(self.width, self.width, self.width)\n",
        "        self.w0 = nn.Conv1d(self.width, self.width, 1)\n",
        "        self.w1 = nn.Conv1d(self.width, self.width, 1)\n",
        "        self.w2 = nn.Conv1d(self.width, self.width, 1)\n",
        "        self.w3 = nn.Conv1d(self.width, self.width, 1)\n",
        "        self.q = MLP(self.width, 2, self.width * 2)\n",
        "\n",
        "    def forward(self, x):\n",
        "        x = self.p(x)\n",
        "        x = x.permute(0, 2, 1)\n",
        "\n",
        "        x = F.pad(x, [0, self.padding])  # pad the domain if input is non-periodic\n",
        "        x1 = self.conv0(x)\n",
        "        x1 = self.mlp0(x1)\n",
        "        x2 = self.w0(x)\n",
        "        x = x1 + x2\n",
        "        x = F.gelu(x)\n",
        "\n",
        "        x1 = self.conv1(x)\n",
        "        x1 = self.mlp1(x1)\n",
        "        x2 = self.w1(x)\n",
        "        x = x1 + x2\n",
        "        x = F.gelu(x)\n",
        "\n",
        "        x1 = self.conv2(x)\n",
        "        x1 = self.mlp2(x1)\n",
        "        x2 = self.w2(x)\n",
        "        x = x1 + x2\n",
        "        x = F.gelu(x)\n",
        "\n",
        "        x1 = self.conv3(x)\n",
        "        x1 = self.mlp3(x1)\n",
        "        x2 = self.w3(x)\n",
        "        x = x1 + x2\n",
        "\n",
        "        x = x[..., : -self.padding]  # pad the domain if input is non-periodic\n",
        "        x = self.q(x)\n",
        "        x = x.permute(0, 2, 1)\n",
        "        return x"
      ]
    },
    {
      "cell_type": "code",
      "execution_count": 12,
      "metadata": {
        "id": "0jPevQsFqZgd"
      },
      "outputs": [],
      "source": [
        "class LpLoss(object):\n",
        "    def __init__(self, d=2, p=2, size_average=True, reduction=True):\n",
        "        super(LpLoss, self).__init__()\n",
        "\n",
        "        #Dimension and Lp-norm type are postive\n",
        "        assert d > 0 and p > 0\n",
        "\n",
        "        self.d = d\n",
        "        self.p = p\n",
        "        self.reduction = reduction\n",
        "        self.size_average = size_average\n",
        "\n",
        "    def abs(self, x, y):\n",
        "        num_examples = x.size()[0]\n",
        "\n",
        "        #Assume uniform mesh\n",
        "        h = 1.0 / (x.size()[1] - 1.0)\n",
        "\n",
        "        all_norms = (h**(self.d/self.p))*torch.norm(x.view(num_examples,-1) - y.view(num_examples,-1), self.p, 1)\n",
        "\n",
        "        if self.reduction:\n",
        "            if self.size_average:\n",
        "                return torch.mean(all_norms)\n",
        "            else:\n",
        "                return torch.sum(all_norms)\n",
        "\n",
        "        return all_norms\n",
        "\n",
        "    def rel(self, x, y):\n",
        "        num_examples = x.size()[0]\n",
        "\n",
        "        diff_norms = torch.norm(x.reshape(num_examples,-1) - y.reshape(num_examples,-1), self.p, 1)\n",
        "        y_norms = torch.norm(y.reshape(num_examples,-1), self.p, 1)\n",
        "\n",
        "        if self.reduction:\n",
        "            if self.size_average:\n",
        "                return torch.mean(diff_norms/y_norms)\n",
        "            else:\n",
        "                return torch.sum(diff_norms/y_norms)\n",
        "\n",
        "        return diff_norms/y_norms\n",
        "\n",
        "    def __call__(self, x, y):\n",
        "        return self.rel(x, y)"
      ]
    },
    {
      "cell_type": "code",
      "execution_count": 13,
      "metadata": {
        "id": "rhsZVz0aqnFP"
      },
      "outputs": [],
      "source": [
        "device = torch.device(\"cuda:0\" if torch.cuda.is_available() else \"cpu\")"
      ]
    },
    {
      "cell_type": "code",
      "execution_count": 14,
      "metadata": {
        "id": "DbNOpRfBqZjY"
      },
      "outputs": [],
      "source": [
        "model = FNO1d(modes = 12, width = 128, n_features=3)\n",
        "model = model.to(device)\n",
        "\n",
        "criterion = LpLoss(size_average=False)\n",
        "\n",
        "lr, momentum = 1e-4 , 0.9\n",
        "\n",
        "optimizer = optim.Adam(model.parameters(), lr=lr, weight_decay=1e-4)"
      ]
    },
    {
      "cell_type": "code",
      "execution_count": 15,
      "metadata": {
        "id": "w7yyugiAqtW-"
      },
      "outputs": [],
      "source": [
        "loss_dict = {'train_loss': [], 'val_loss': []}"
      ]
    },
    {
      "cell_type": "code",
      "execution_count": null,
      "metadata": {
        "colab": {
          "base_uri": "https://localhost:8080/"
        },
        "id": "MwBGu2cBqn7G",
        "outputId": "75909645-f210-4266-cb14-b5d034d8e36a"
      },
      "outputs": [],
      "source": [
        "epoch_number = len(loss_dict['val_loss'])\n",
        "EPOCHS = 2500\n",
        "\n",
        "for epoch in range(EPOCHS):\n",
        "    print('EPOCH {}:'.format(epoch_number + 1))\n",
        "\n",
        "    model.train()\n",
        "    train_loss = 0.\n",
        "\n",
        "    for i, data in enumerate(train_dataloader):\n",
        "        inputs, labels = data\n",
        "        inputs, labels  = inputs.to(device), labels.to(device)\n",
        "\n",
        "        optimizer.zero_grad()\n",
        "\n",
        "        outputs = model(inputs)\n",
        "        loss = criterion(outputs, labels)\n",
        "\n",
        "        loss.backward()\n",
        "        optimizer.step()\n",
        "\n",
        "        train_loss += loss.item()\n",
        "\n",
        "    train_loss /=  len(train)\n",
        "    model.eval()\n",
        "\n",
        "    test_loss = 0.0\n",
        "\n",
        "    with torch.no_grad():\n",
        "      for i, vdata in enumerate(test_dataloader):\n",
        "          vinputs, vlabels = vdata\n",
        "          vinputs, vlabels = vinputs.to(device), vlabels.to(device)\n",
        "          voutputs = model(vinputs)\n",
        "          vloss = criterion(voutputs, vlabels)\n",
        "          test_loss += vloss.item()\n",
        "\n",
        "    test_loss /= len(test)\n",
        "    print(f'LOSS train {train_loss:.6f} valid {test_loss:.6f}')\n",
        "    loss_dict['train_loss'].append(train_loss)\n",
        "    loss_dict['val_loss'].append(test_loss)\n",
        "    # keep best model\n",
        "    if min(loss_dict['val_loss']) == test_loss:\n",
        "      print(f\"New best model at epoch {epoch_number + 1} with test loss {min(loss_dict['val_loss'])}\")\n",
        "      best_model = deepcopy(model)\n",
        "    epoch_number += 1"
      ]
    },
    {
      "cell_type": "code",
      "execution_count": 17,
      "metadata": {
        "colab": {
          "base_uri": "https://localhost:8080/",
          "height": 340
        },
        "id": "eKi40HkCqn9X",
        "outputId": "55dcb994-175f-4fef-c13d-355206053292"
      },
      "outputs": [
        {
          "data": {
            "image/png": "[encoded data removed]",
            "text/plain": [
              "<Figure size 500x300 with 1 Axes>"
            ]
          },
          "metadata": {},
          "output_type": "display_data"
        }
      ],
      "source": [
        "x = list(range(1, len(loss_dict['train_loss'])+1))\n",
        "fig = plt.plot(figsize=(16,16))\n",
        "plt.plot(x, loss_dict['train_loss'], label='Train loss')\n",
        "plt.plot(x, loss_dict['val_loss'], label='Test loss')\n",
        "plt.yscale('log')\n",
        "plt.xlabel('Epoch')\n",
        "plt.ylabel('Loss')\n",
        "plt.title('Train/Test loss')\n",
        "plt.legend()\n",
        "# plt.savefig(f\"CEMRACS_Manuscrit_loss_PS.pdf\", bbox_inches='tight')\n",
        "plt.show()"
      ]
    },
    {
      "cell_type": "code",
      "execution_count": 18,
      "metadata": {
        "id": "LUJvQSd2u0TT"
      },
      "outputs": [],
      "source": [
        "import os\n",
        "if not os.path.isdir(\"models\"):\n",
        "    os.mkdir(\"models\")\n",
        "torch.save(best_model.state_dict(), f\"models/checkpoint_best_model_CEMRACS_Manuscrit_{epoch_number}_PS.pt\")\n",
        "\n",
        "P_normalizer = train.normalizers()\n",
        "dump(P_normalizer, open(f\"models/P_normalizer_PS.pkl\", 'wb'))\n",
        "dump(loss_dict, open(f\"models/loss_dict_{epoch_number}_PS.pkl\", 'wb'))"
      ]
    }
  ],
  "metadata": {
    "accelerator": "GPU",
    "colab": {
      "gpuType": "V100",
      "machine_shape": "hm",
      "provenance": []
    },
    "kernelspec": {
      "display_name": "Yads",
      "language": "python",
      "name": "python3"
    },
    "language_info": {
      "codemirror_mode": {
        "name": "ipython",
        "version": 3
      },
      "file_extension": ".py",
      "mimetype": "text/x-python",
      "name": "python",
      "nbconvert_exporter": "python",
      "pygments_lexer": "ipython3",
      "version": "3.12.2"
    }
  },
  "nbformat": 4,
  "nbformat_minor": 0
}
